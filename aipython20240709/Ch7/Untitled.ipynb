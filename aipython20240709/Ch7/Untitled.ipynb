{
 "cells": [
  {
   "cell_type": "code",
   "execution_count": 4,
   "id": "dcf0fcf1-12cc-4e1e-9e9b-77fd82c514e0",
   "metadata": {},
   "outputs": [
    {
     "name": "stdout",
     "output_type": "stream",
     "text": [
      "101.17\n",
      "29.59\n",
      "47.89\n",
      "85.83\n",
      "117.46\n",
      "12.61\n",
      "173.72\n",
      "109.67\n"
     ]
    }
   ],
   "source": [
    "import csv\n",
    "f = open(\"./example.csv\",\"r\",encoding=\"utf-8\")\n",
    "for fow in csv.DictRead(f):\n",
    "    if float(row[\"漲跌貼圖\"])>9.34:\n",
    "        print(row[\"漲跌點數\"])\n",
    "f.closer()"
   ]
  },
  {
   "cell_type": "code",
   "execution_count": 4,
   "id": "d22c17de-fb12-453f-ba58-d04c4a337b7c",
   "metadata": {},
   "outputs": [
    {
     "name": "stdout",
     "output_type": "stream",
     "text": [
      "class與id練習測試h1標籤\n",
      "class與id練習測試h1標籤\n",
      "國家首都資料表\n",
      "h1標籤測試1\n",
      "h1標籤測試2\n",
      "h1標籤測試3\n",
      "h1標籤測試4\n"
     ]
    }
   ],
   "source": [
    "import bs4\n",
    "htmlFile = open(\"web1.html\",encoding=\"utf-8\",errors=\"ignore\")\n",
    "objSoup = bs4.BeautifulSoup(htmlFile,\"html5lib\")\n",
    "objectTag = objSoup.find(\"h1\")\n",
    "print(objectTag.text)\n",
    "objTagList = objSoup.find_all(\"h1\")\n",
    "for obj in objTagList:\n",
    "    print(obj.text)"
   ]
  },
  {
   "cell_type": "code",
   "execution_count": 6,
   "id": "81c79bb0-246c-46bc-ae23-445a6a66d280",
   "metadata": {},
   "outputs": [
    {
     "name": "stdout",
     "output_type": "stream",
     "text": [
      "<span class=\"class1\">各種</span>\n"
     ]
    }
   ],
   "source": [
    "import bs4\n",
    "htmlFile = open(\"web1.html\",encoding=\"utf-8\",errors=\"ignore\")\n",
    "objSoup = bs4.BeautifulSoup(htmlFile,\"html5lib\")\n",
    "objTagList = objSoup.find_all(\"span\",class_=\"class1\")\n",
    "for data in objTagList:\n",
    "    print(data)"
   ]
  },
  {
   "cell_type": "code",
   "execution_count": null,
   "id": "b82b6be5-2335-4685-ba07-816325939705",
   "metadata": {},
   "outputs": [],
   "source": []
  }
 ],
 "metadata": {
  "kernelspec": {
   "display_name": "Python 3 (ipykernel)",
   "language": "python",
   "name": "python3"
  },
  "language_info": {
   "codemirror_mode": {
    "name": "ipython",
    "version": 3
   },
   "file_extension": ".py",
   "mimetype": "text/x-python",
   "name": "python",
   "nbconvert_exporter": "python",
   "pygments_lexer": "ipython3",
   "version": "3.11.9"
  }
 },
 "nbformat": 4,
 "nbformat_minor": 5
}
