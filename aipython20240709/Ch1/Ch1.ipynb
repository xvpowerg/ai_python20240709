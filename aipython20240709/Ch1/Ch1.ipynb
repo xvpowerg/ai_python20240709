{
 "cells": [
  {
   "cell_type": "code",
   "execution_count": 9,
   "id": "c287fd55-abcb-495b-b059-1bf893affe2c",
   "metadata": {},
   "outputs": [
    {
     "name": "stdout",
     "output_type": "stream",
     "text": [
      "56\n"
     ]
    }
   ],
   "source": [
    "print(56)"
   ]
  },
  {
   "cell_type": "markdown",
   "id": "b760a1bc-9b6d-4159-a1a6-06e4883bc66d",
   "metadata": {},
   "source": [
    "# 第一章\n",
    "## 1-1 pyhton開始"
   ]
  },
  {
   "cell_type": "markdown",
   "id": "13d33e73-9e74-4dac-85fa-f4583af97a63",
   "metadata": {},
   "source": [
    "# Python第一堂課\n",
    "## 輸出\n"
   ]
  },
  {
   "cell_type": "markdown",
   "id": "0ec83af0-bd35-4bc0-ac08-33975c076a65",
   "metadata": {},
   "source": [
    "## Python變數類型\n",
    "\n",
    "1. 整數 (int) int\n",
    "2. 浮點數 (float) float\n",
    "3. 字串 (string) str\n",
    "4. 布林 (boolean) bool\n",
    "\n"
   ]
  },
  {
   "cell_type": "code",
   "execution_count": 16,
   "id": "b71c684b-3eec-4bf6-9500-9bfb5d419780",
   "metadata": {},
   "outputs": [
    {
     "name": "stdout",
     "output_type": "stream",
     "text": [
      "12\n",
      "2.71828\n",
      "午安\n",
      "吃飽沒\n"
     ]
    }
   ],
   "source": [
    "age = 12\n",
    "print(age)\n"
   ]
  },
  {
   "cell_type": "code",
   "execution_count": 17,
   "id": "784d31a1-d0df-4ebf-935e-a0702a5b09fd",
   "metadata": {},
   "outputs": [
    {
     "name": "stdout",
     "output_type": "stream",
     "text": [
      "2.71828\n"
     ]
    }
   ],
   "source": [
    "e = 2.71828\n",
    "print(e)"
   ]
  },
  {
   "cell_type": "code",
   "execution_count": 19,
   "id": "187376f2-75b0-4ba8-bbde-3002156eca94",
   "metadata": {},
   "outputs": [
    {
     "name": "stdout",
     "output_type": "stream",
     "text": [
      "午安\n",
      "吃飽沒\n"
     ]
    }
   ],
   "source": [
    "msg1 = \"午安\"\n",
    "print(msg1)\n",
    "msg2 = '吃飽沒'\n",
    "print(msg2)"
   ]
  },
  {
   "cell_type": "code",
   "execution_count": 15,
   "id": "8eeb2952-048f-4a51-8980-738b8a8f08c9",
   "metadata": {},
   "outputs": [
    {
     "name": "stdout",
     "output_type": "stream",
     "text": [
      "True\n",
      "False\n"
     ]
    }
   ],
   "source": [
    "isOpen = True\n",
    "print(isOpen)\n",
    "isOpen = False\n",
    "print(isOpen)"
   ]
  },
  {
   "cell_type": "code",
   "execution_count": 20,
   "id": "6eb805c8-1136-4057-bfee-e9b0a4110798",
   "metadata": {},
   "outputs": [
    {
     "data": {
      "text/plain": [
       "int"
      ]
     },
     "execution_count": 20,
     "metadata": {},
     "output_type": "execute_result"
    }
   ],
   "source": [
    "type(age)"
   ]
  },
  {
   "cell_type": "code",
   "execution_count": 23,
   "id": "557f5017-2c8d-4706-a3f0-6490ce40ae29",
   "metadata": {},
   "outputs": [
    {
     "data": {
      "text/plain": [
       "float"
      ]
     },
     "execution_count": 23,
     "metadata": {},
     "output_type": "execute_result"
    }
   ],
   "source": [
    "type(e)"
   ]
  },
  {
   "cell_type": "code",
   "execution_count": 24,
   "id": "954cc62a-1a3b-4a71-9b41-0c8c1c1ef20d",
   "metadata": {},
   "outputs": [
    {
     "data": {
      "text/plain": [
       "str"
      ]
     },
     "execution_count": 24,
     "metadata": {},
     "output_type": "execute_result"
    }
   ],
   "source": [
    "type(msg1)"
   ]
  },
  {
   "cell_type": "code",
   "execution_count": 25,
   "id": "6f765c54-3ea5-43c2-b9e5-e5a3a2206320",
   "metadata": {},
   "outputs": [
    {
     "data": {
      "text/plain": [
       "bool"
      ]
     },
     "execution_count": 25,
     "metadata": {},
     "output_type": "execute_result"
    }
   ],
   "source": [
    "type(isOpen)"
   ]
  },
  {
   "cell_type": "code",
   "execution_count": 28,
   "id": "bb446523-c92d-4a17-a528-6d06431553a7",
   "metadata": {},
   "outputs": [
    {
     "name": "stdout",
     "output_type": "stream",
     "text": [
      "<class 'int'>\n",
      "<class 'float'>\n",
      "<class 'str'>\n"
     ]
    }
   ],
   "source": [
    "var1 = 100\n",
    "print(type(var1))\n",
    "var1 = 3.1415\n",
    "print(type(var1))\n",
    "var1 = \"Hello\"\n",
    "print(type(var1))"
   ]
  },
  {
   "cell_type": "code",
   "execution_count": 2,
   "id": "29eb552e-4ce1-4208-9434-447ecad60d85",
   "metadata": {},
   "outputs": [
    {
     "name": "stdout",
     "output_type": "stream",
     "text": [
      "100\n",
      "2\n"
     ]
    }
   ],
   "source": []
  },
  {
   "cell_type": "code",
   "execution_count": 7,
   "id": "5e64761f-c472-4910-99a0-15457f6aa2da",
   "metadata": {},
   "outputs": [
    {
     "name": "stdout",
     "output_type": "stream",
     "text": [
      "100\n",
      "2\n",
      "100 + 2 = 102\n",
      "102\n",
      "200\n",
      "100 * 2 = 200\n",
      "98\n",
      "5 / 2 = 2.5\n",
      "2.5\n",
      "2\n",
      "1\n"
     ]
    }
   ],
   "source": [
    "var1 = 100\n",
    "print(var1)\n",
    "var2 = 2\n",
    "print(var2)\n",
    "ans1 = var1 + var2\n",
    "print(var1,\"+\",var2,\"=\",ans1)\n",
    "print(ans1)\n",
    "ans2 = var1 * var2\n",
    "print(ans2)\n",
    "print(var1,\"*\",var2,\"=\",ans2)\n",
    "ans3 = var1 - var2\n",
    "print(ans3)\n",
    "var1 = 5\n",
    "var2 = 2\n",
    "ans4 = var1 / var2\n",
    "print(var1,\"/\",var2,\"=\",ans4)\n",
    "print(ans4)\n",
    "ans5 = var1 // var2\n",
    "\n",
    "print(ans5)\n",
    "\n",
    "ans6 = var1 % var2\n",
    "print(ans6)"
   ]
  },
  {
   "cell_type": "code",
   "execution_count": 36,
   "id": "8e00fceb-b5be-492c-988d-88e9cd084fd0",
   "metadata": {},
   "outputs": [
    {
     "name": "stdout",
     "output_type": "stream",
     "text": [
      "1 10 25\n"
     ]
    }
   ],
   "source": [
    "v1 = 1\n",
    "v2 = 10\n",
    "v3 = 25\n",
    "print(v1,v2,v3)\n"
   ]
  },
  {
   "cell_type": "code",
   "execution_count": 9,
   "id": "93072e8c-709e-4a37-9d0b-20c4face62b8",
   "metadata": {},
   "outputs": [
    {
     "name": "stdout",
     "output_type": "stream",
     "text": [
      "10 18.5 Hello\n"
     ]
    }
   ],
   "source": [
    "a1,b2,c3 = 10,18.5,\"Hello\"\n",
    "print(a1,b2,c3)"
   ]
  },
  {
   "cell_type": "markdown",
   "id": "3b45d684-20ea-4aa7-a621-46544edddeba",
   "metadata": {},
   "source": [
    "## 交換"
   ]
  },
  {
   "cell_type": "code",
   "execution_count": 12,
   "id": "aed18a9c-0cc0-4622-9720-3588cd80885b",
   "metadata": {},
   "outputs": [
    {
     "name": "stdout",
     "output_type": "stream",
     "text": [
      "50 76\n",
      "76 50\n"
     ]
    }
   ],
   "source": [
    "a,b = 50,76\n",
    "print(a,b)\n",
    "temp = a\n",
    "a = b\n",
    "b = temp\n",
    "print(a,b)"
   ]
  },
  {
   "cell_type": "code",
   "execution_count": 15,
   "id": "17b0bff4-0058-47fc-a270-7363d12a1b27",
   "metadata": {},
   "outputs": [
    {
     "name": "stdout",
     "output_type": "stream",
     "text": [
      "50 76\n",
      "76 50\n"
     ]
    }
   ],
   "source": [
    "a,b = 50,76\n",
    "print(a,b)\n",
    "a,b = b,a \n",
    "print(a,b)"
   ]
  },
  {
   "cell_type": "markdown",
   "id": "aa278fb7-d6eb-47e7-bd13-3f71a9289504",
   "metadata": {},
   "source": [
    "## 可利用str()轉字串"
   ]
  },
  {
   "cell_type": "code",
   "execution_count": 19,
   "id": "4cffe657-fc54-42fb-9677-e658bde00b3d",
   "metadata": {},
   "outputs": [
    {
     "name": "stdout",
     "output_type": "stream",
     "text": [
      "年齡18\n"
     ]
    }
   ],
   "source": [
    "year = 18\n",
    "#可用+將自串串接\n",
    "msg = \"年齡\"+\"18\"\n",
    "print(msg)\n",
    "\n",
    "msg2 = \"年齡\"+str(year)"
   ]
  },
  {
   "cell_type": "markdown",
   "id": "c3264eec-1911-4995-8a97-e347042cb1a3",
   "metadata": {},
   "source": [
    "# del 移除變數"
   ]
  },
  {
   "cell_type": "code",
   "execution_count": 25,
   "id": "7083768c-a20a-4c36-899c-3682de4a3d80",
   "metadata": {},
   "outputs": [
    {
     "name": "stdout",
     "output_type": "stream",
     "text": [
      "20 20 20\n"
     ]
    },
    {
     "ename": "NameError",
     "evalue": "name 'y' is not defined",
     "output_type": "error",
     "traceback": [
      "\u001b[1;31m---------------------------------------------------------------------------\u001b[0m",
      "\u001b[1;31mNameError\u001b[0m                                 Traceback (most recent call last)",
      "Cell \u001b[1;32mIn[25], line 4\u001b[0m\n\u001b[0;32m      2\u001b[0m \u001b[38;5;28mprint\u001b[39m(x,y,z)\n\u001b[0;32m      3\u001b[0m \u001b[38;5;28;01mdel\u001b[39;00m y\n\u001b[1;32m----> 4\u001b[0m \u001b[38;5;28mprint\u001b[39m(x,y,z)\n",
      "\u001b[1;31mNameError\u001b[0m: name 'y' is not defined"
     ]
    }
   ],
   "source": [
    "x=y=z=20\n",
    "print(x,y,z)\n",
    "del y\n",
    "print(x,y,z)"
   ]
  },
  {
   "cell_type": "code",
   "execution_count": null,
   "id": "412f52cb-3bba-4a38-87e8-d79f6a98c43a",
   "metadata": {},
   "outputs": [],
   "source": []
  }
 ],
 "metadata": {
  "kernelspec": {
   "display_name": "Python 3 (ipykernel)",
   "language": "python",
   "name": "python3"
  },
  "language_info": {
   "codemirror_mode": {
    "name": "ipython",
    "version": 3
   },
   "file_extension": ".py",
   "mimetype": "text/x-python",
   "name": "python",
   "nbconvert_exporter": "python",
   "pygments_lexer": "ipython3",
   "version": "3.11.9"
  }
 },
 "nbformat": 4,
 "nbformat_minor": 5
}
