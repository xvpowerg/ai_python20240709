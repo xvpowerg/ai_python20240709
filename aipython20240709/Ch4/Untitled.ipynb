{
 "cells": [
  {
   "cell_type": "markdown",
   "id": "c2f946db-0329-4e9f-a018-bbeb5d553ca6",
   "metadata": {},
   "source": [
    "## 作業 文字接龍"
   ]
  },
  {
   "cell_type": "code",
   "execution_count": 4,
   "id": "47c41d3e-8ae1-4fad-be88-711f8a5edae8",
   "metadata": {},
   "outputs": [
    {
     "name": "stdin",
     "output_type": "stream",
     "text": [
      "請輸入第一個字串: Python\n",
      "請輸入-n-開始的字串 new\n"
     ]
    },
    {
     "name": "stdout",
     "output_type": "stream",
     "text": [
      "上一個字串是:Python-new\n"
     ]
    },
    {
     "name": "stdin",
     "output_type": "stream",
     "text": [
      "請輸入-w-開始的字串 well\n"
     ]
    },
    {
     "name": "stdout",
     "output_type": "stream",
     "text": [
      "上一個字串是:Python-new-well\n"
     ]
    },
    {
     "name": "stdin",
     "output_type": "stream",
     "text": [
      "請輸入-l-開始的字串 lll\n"
     ]
    },
    {
     "name": "stdout",
     "output_type": "stream",
     "text": [
      "上一個字串是:Python-new-well-lll\n"
     ]
    },
    {
     "name": "stdin",
     "output_type": "stream",
     "text": [
      "請輸入-l-開始的字串 llll\n"
     ]
    },
    {
     "name": "stdout",
     "output_type": "stream",
     "text": [
      "上一個字串是:Python-new-well-lll-llll\n"
     ]
    },
    {
     "name": "stdin",
     "output_type": "stream",
     "text": [
      "請輸入-l-開始的字串 lll\n"
     ]
    },
    {
     "name": "stdout",
     "output_type": "stream",
     "text": [
      "上一個字串是:Python-new-well-lll-llll-lll\n"
     ]
    },
    {
     "name": "stdin",
     "output_type": "stream",
     "text": [
      "請輸入-l-開始的字串 llll\n"
     ]
    },
    {
     "name": "stdout",
     "output_type": "stream",
     "text": [
      "上一個字串是:Python-new-well-lll-llll-lll-llll\n"
     ]
    },
    {
     "name": "stdin",
     "output_type": "stream",
     "text": [
      "請輸入-l-開始的字串 llll\n"
     ]
    },
    {
     "name": "stdout",
     "output_type": "stream",
     "text": [
      "上一個字串是:Python-new-well-lll-llll-lll-llll-llll\n"
     ]
    },
    {
     "name": "stdin",
     "output_type": "stream",
     "text": [
      "請輸入-l-開始的字串 xxx\n"
     ]
    },
    {
     "name": "stdout",
     "output_type": "stream",
     "text": [
      "上一個字串是:Python-new-well-lll-llll-lll-llll-llll\n"
     ]
    },
    {
     "name": "stdin",
     "output_type": "stream",
     "text": [
      "請再次輸入-l-開始的字串 xxx\n"
     ]
    },
    {
     "name": "stdout",
     "output_type": "stream",
     "text": [
      "上一個字串是:Python-new-well-lll-llll-lll-llll-llll\n"
     ]
    },
    {
     "name": "stdin",
     "output_type": "stream",
     "text": [
      "請再次輸入-l-開始的字串 xxx\n"
     ]
    },
    {
     "name": "stdout",
     "output_type": "stream",
     "text": [
      "上一個字串是:Python-new-well-lll-llll-lll-llll-llll\n"
     ]
    },
    {
     "name": "stdin",
     "output_type": "stream",
     "text": [
      "請再次輸入-l-開始的字串 xxx\n"
     ]
    },
    {
     "name": "stdout",
     "output_type": "stream",
     "text": [
      "上一個字串是:Python-new-well-lll-llll-lll-llll-llll\n"
     ]
    },
    {
     "name": "stdin",
     "output_type": "stream",
     "text": [
      "請再次輸入-l-開始的字串 xxxx\n"
     ]
    },
    {
     "name": "stdout",
     "output_type": "stream",
     "text": [
      "上一個字串是:Python-new-well-lll-llll-lll-llll-llll\n"
     ]
    }
   ],
   "source": [
    "txt = input(\"請輸入第一個字串:\")\n",
    "strList = []\n",
    "strList.append(txt)\n",
    "msg = txt\n",
    "count = 0\n",
    "inputMsg = \"請輸入-\"+txt[-1]+\"-開始的字串\"\n",
    "while count < 5:\n",
    "    tmpTxt = input(inputMsg)\n",
    "    if tmpTxt[0] == txt[-1]:\n",
    "        txt = tmpTxt\n",
    "        strList.append(tmpTxt)\n",
    "        msg = \"-\".join(strList)\n",
    "        inputMsg = \"請輸入-\"+txt[-1]+\"-開始的字串\"\n",
    "    else:\n",
    "        inputMsg = \"請再次輸入-\"+txt[-1]+\"-開始的字串\"\n",
    "        count+=1\n",
    "    print(\"上一個字串是:\"+msg)    \n",
    "        "
   ]
  },
  {
   "cell_type": "code",
   "execution_count": 7,
   "id": "026a558b-3853-4fdb-867e-a6dd016697d2",
   "metadata": {},
   "outputs": [
    {
     "name": "stdout",
     "output_type": "stream",
     "text": [
      "[1, 2, 3, 4, 5, 6]\n",
      "[1, 2, 3, 4, 5, 6]\n",
      "[12, 2, 3, 4, 5, 6]\n",
      "2278831475712\n",
      "2278831475712\n"
     ]
    }
   ],
   "source": [
    "list1 = [1,2,3,4,5,6]\n",
    "list2 = list1\n",
    "print(list1)\n",
    "print(list2)\n",
    "list2[0] = 12\n",
    "print(list1)\n",
    "print(id(list1))\n",
    "print(id(list2))"
   ]
  },
  {
   "cell_type": "code",
   "execution_count": 11,
   "id": "e3e4b3e6-910c-4a6b-983b-f20be1ecf3f7",
   "metadata": {},
   "outputs": [
    {
     "name": "stdout",
     "output_type": "stream",
     "text": [
      "2278831434432\n",
      "2278831359808\n",
      "[1, 2, 3, 4, 5, 6]\n"
     ]
    }
   ],
   "source": [
    "list1 = [1,2,3,4,5,6]\n",
    "list2 = list1[:]\n",
    "print(id(list1))\n",
    "print(id(list2))\n",
    "list2[0] = 120\n",
    "print(list1)\n"
   ]
  },
  {
   "cell_type": "code",
   "execution_count": 13,
   "id": "94a0a378-af5e-477a-90d7-c3644c5315cc",
   "metadata": {},
   "outputs": [
    {
     "name": "stdout",
     "output_type": "stream",
     "text": [
      "2278831494336\n",
      "2278831475712\n",
      "[1, 2, 3, 4, 5, 6]\n"
     ]
    }
   ],
   "source": [
    "list1 = [1,2,3,4,5,6]\n",
    "list2 = list1.copy()\n",
    "print(id(list1))\n",
    "print(id(list2))\n",
    "list2[0] = 180\n",
    "print(list1)"
   ]
  },
  {
   "cell_type": "markdown",
   "id": "1f02c22f-0991-4260-ba29-c2b4ba075e4d",
   "metadata": {},
   "source": [
    "## list 項目插入新資料\n",
    "+ list 可使用 insert 方式插入新的資料：\n",
    "   + list.insert(索引值，插入的資料)。\n",
    "   + 若索引值超出範圍則會改為 append 方式附加。"
   ]
  },
  {
   "cell_type": "code",
   "execution_count": 20,
   "id": "2d04ca30-a749-4f36-872b-57b7c862d4f5",
   "metadata": {},
   "outputs": [
    {
     "name": "stdout",
     "output_type": "stream",
     "text": [
      "5\n",
      "['a', 'x', 'b', 'c', 'd', 'e']\n",
      "['a', 'x', 'b', 'c', 'y', 'd', 'e']\n",
      "['a', 'x', 'b', 'c', 'y', 'd', 'e', 'g']\n",
      "['f', 'a', 'x', 'b', 'c', 'y', 'd', 'e', 'g']\n"
     ]
    }
   ],
   "source": [
    "list1 = [\"a\",\"b\",\"c\",\"d\",\"e\"]\n",
    "print(len(list1))\n",
    "list1.insert(1,'x')\n",
    "print(list1)\n",
    "list1.insert(-2,\"y\")\n",
    "print(list1)\n",
    "list1.insert(88,'g')\n",
    "print(list1)\n",
    "list1.insert(-100,'f')\n",
    "print(list1)"
   ]
  },
  {
   "cell_type": "code",
   "execution_count": 2,
   "id": "0b259548-fd3f-4a11-8784-606624ea198b",
   "metadata": {},
   "outputs": [
    {
     "name": "stdout",
     "output_type": "stream",
     "text": [
      "1 2 3 4 5 \n",
      "3 4 5 6 7 8 9 10 \n",
      "5 6 7 8 9 \n"
     ]
    }
   ],
   "source": [
    "def func_loop(s,e):\n",
    "    for i in range(s,e+1):\n",
    "        print(i,end=\" \")\n",
    "    print()\n",
    "func_loop(1,5)\n",
    "func_loop(3,10)\n",
    "func_loop(5,9)"
   ]
  },
  {
   "cell_type": "code",
   "execution_count": null,
   "id": "2c261b48-0dcc-4140-a5bc-02931fd5a568",
   "metadata": {},
   "outputs": [],
   "source": []
  }
 ],
 "metadata": {
  "kernelspec": {
   "display_name": "Python 3 (ipykernel)",
   "language": "python",
   "name": "python3"
  },
  "language_info": {
   "codemirror_mode": {
    "name": "ipython",
    "version": 3
   },
   "file_extension": ".py",
   "mimetype": "text/x-python",
   "name": "python",
   "nbconvert_exporter": "python",
   "pygments_lexer": "ipython3",
   "version": "3.11.9"
  }
 },
 "nbformat": 4,
 "nbformat_minor": 5
}
